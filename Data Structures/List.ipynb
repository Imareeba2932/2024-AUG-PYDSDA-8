{
 "cells": [
  {
   "cell_type": "code",
   "execution_count": 1,
   "metadata": {},
   "outputs": [
    {
     "name": "stdout",
     "output_type": "stream",
     "text": [
      "['google', 'zomato', 'swiggy', 'uber', 'chrome', 'photos', 'drive', 'instagram', 'watsap', 'facebook', 'linkedin', 'playstore']\n"
     ]
    }
   ],
   "source": [
    "apps = ['google','zomato','swiggy','uber','chrome','photos','drive','instagram','watsap','facebook','linkedin','playstore']\n",
    "print(apps)"
   ]
  },
  {
   "cell_type": "code",
   "execution_count": 5,
   "metadata": {},
   "outputs": [
    {
     "name": "stdout",
     "output_type": "stream",
     "text": [
      "swiggy\n",
      "watsap\n",
      "facebook\n",
      "drive\n"
     ]
    }
   ],
   "source": [
    "#indexing\n",
    "print(apps[2])\n",
    "print(apps[8])\n",
    "print(apps[-3])\n",
    "print(apps[-6])"
   ]
  },
  {
   "cell_type": "code",
   "execution_count": 11,
   "metadata": {},
   "outputs": [
    {
     "name": "stdout",
     "output_type": "stream",
     "text": [
      "['swiggy', 'uber', 'chrome', 'photos', 'drive', 'instagram']\n",
      "['google', 'swiggy', 'chrome', 'drive', 'watsap', 'linkedin']\n",
      "['google', 'zomato', 'swiggy', 'uber', 'chrome', 'photos']\n",
      "['uber', 'chrome', 'photos', 'drive', 'instagram', 'watsap', 'facebook', 'linkedin', 'playstore']\n",
      "['google', 'zomato', 'swiggy', 'uber', 'chrome', 'photos', 'drive', 'instagram', 'watsap', 'facebook', 'linkedin', 'playstore']\n"
     ]
    }
   ],
   "source": [
    "#slicing\n",
    "print(apps[2:8])\n",
    "print(apps[0:12:2])\n",
    "print(apps[:6])\n",
    "print(apps[3:])\n",
    "print(apps[:])"
   ]
  },
  {
   "cell_type": "markdown",
   "metadata": {},
   "source": [
    "LIST METHODS\n",
    "- append()\n",
    "- insert()\n",
    "- pop()\n",
    "- remove()\n",
    "- sort()\n",
    "- reverse()\n",
    "- extend()\n",
    "- copy()\n",
    "- clear()"
   ]
  },
  {
   "cell_type": "code",
   "execution_count": 12,
   "metadata": {},
   "outputs": [
    {
     "name": "stdout",
     "output_type": "stream",
     "text": [
      "['google', 'zomato', 'swiggy', 'uber', 'chrome', 'photos', 'drive', 'instagram', 'watsap', 'facebook', 'linkedin', 'playstore']\n"
     ]
    }
   ],
   "source": [
    "print(apps)"
   ]
  },
  {
   "cell_type": "code",
   "execution_count": 13,
   "metadata": {},
   "outputs": [
    {
     "name": "stdout",
     "output_type": "stream",
     "text": [
      "['google', 'zomato', 'swiggy', 'uber', 'chrome', 'photos', 'drive', 'instagram', 'watsap', 'facebook', 'linkedin', 'playstore', 'snapchat']\n"
     ]
    }
   ],
   "source": [
    "apps.append('snapchat')\n",
    "print(apps)"
   ]
  },
  {
   "cell_type": "code",
   "execution_count": 14,
   "metadata": {},
   "outputs": [
    {
     "name": "stdout",
     "output_type": "stream",
     "text": [
      "['google', 'zomato', 'swiggy', 'uber', 'rapido', 'chrome', 'photos', 'drive', 'instagram', 'watsap', 'facebook', 'linkedin', 'playstore', 'snapchat']\n"
     ]
    }
   ],
   "source": [
    "apps.insert(4, 'rapido')\n",
    "print(apps)"
   ]
  },
  {
   "cell_type": "code",
   "execution_count": 15,
   "metadata": {},
   "outputs": [
    {
     "name": "stdout",
     "output_type": "stream",
     "text": [
      "['google', 'zomato', 'swiggy', 'uber', 'rapido', 'chrome', 'photos', 'instagram', 'watsap', 'facebook', 'linkedin', 'playstore', 'snapchat']\n"
     ]
    }
   ],
   "source": [
    "apps.pop(7)\n",
    "print(apps)"
   ]
  },
  {
   "cell_type": "code",
   "execution_count": 16,
   "metadata": {},
   "outputs": [
    {
     "name": "stdout",
     "output_type": "stream",
     "text": [
      "['google', 'zomato', 'uber', 'rapido', 'chrome', 'photos', 'instagram', 'watsap', 'facebook', 'linkedin', 'playstore', 'snapchat']\n"
     ]
    }
   ],
   "source": [
    "apps.remove('swiggy')\n",
    "print(apps)"
   ]
  },
  {
   "cell_type": "code",
   "execution_count": 18,
   "metadata": {},
   "outputs": [
    {
     "name": "stdout",
     "output_type": "stream",
     "text": [
      "['chrome', 'facebook', 'google', 'instagram', 'linkedin', 'photos', 'playstore', 'rapido', 'snapchat', 'uber', 'watsap', 'zomato']\n"
     ]
    }
   ],
   "source": [
    "apps.sort()\n",
    "print(apps)"
   ]
  },
  {
   "cell_type": "code",
   "execution_count": 19,
   "metadata": {},
   "outputs": [
    {
     "name": "stdout",
     "output_type": "stream",
     "text": [
      "['zomato', 'watsap', 'uber', 'snapchat', 'rapido', 'playstore', 'photos', 'linkedin', 'instagram', 'google', 'facebook', 'chrome']\n"
     ]
    }
   ],
   "source": [
    "apps.reverse()\n",
    "print(apps)"
   ]
  },
  {
   "cell_type": "code",
   "execution_count": 23,
   "metadata": {},
   "outputs": [
    {
     "name": "stdout",
     "output_type": "stream",
     "text": [
      "['zomato', 'watsap', 'uber', 'snapchat', 'rapido', 'playstore', 'photos', 'linkedin', 'instagram', 'google', 'facebook', 'chrome', 'telegram', 'twitter', 'calendar', 'maps', 'youtube', 'telegram', 'twitter', 'calendar', 'maps', 'youtube']\n"
     ]
    }
   ],
   "source": [
    "apps2 = ['telegram','twitter','calendar','maps','youtube']\n",
    "apps.extend(apps2)\n",
    "print(apps)"
   ]
  },
  {
   "cell_type": "code",
   "execution_count": 25,
   "metadata": {},
   "outputs": [
    {
     "name": "stdout",
     "output_type": "stream",
     "text": [
      "['telegram', 'twitter', 'calendar', 'maps', 'youtube']\n"
     ]
    }
   ],
   "source": [
    "apps2 = ['telegram','twitter','calendar','maps','youtube']\n",
    "print(apps2)"
   ]
  },
  {
   "cell_type": "code",
   "execution_count": 26,
   "metadata": {},
   "outputs": [
    {
     "name": "stdout",
     "output_type": "stream",
     "text": [
      "['telegram', 'twitter', 'calendar', 'maps', 'youtube', 'zomato', 'watsap', 'uber', 'snapchat', 'rapido', 'playstore', 'photos', 'linkedin', 'instagram', 'google', 'facebook', 'chrome', 'telegram', 'twitter', 'calendar', 'maps', 'youtube', 'telegram', 'twitter', 'calendar', 'maps', 'youtube']\n"
     ]
    }
   ],
   "source": [
    "apps2.extend(apps)\n",
    "print(apps2)"
   ]
  },
  {
   "cell_type": "code",
   "execution_count": 27,
   "metadata": {},
   "outputs": [
    {
     "name": "stdout",
     "output_type": "stream",
     "text": [
      "['zomato', 'watsap', 'uber', 'snapchat', 'rapido', 'playstore', 'photos', 'linkedin', 'instagram', 'google', 'facebook', 'chrome', 'telegram', 'twitter', 'calendar', 'maps', 'youtube', 'telegram', 'twitter', 'calendar', 'maps', 'youtube']\n"
     ]
    }
   ],
   "source": [
    "b = apps.copy()\n",
    "print(b)"
   ]
  },
  {
   "cell_type": "code",
   "execution_count": 28,
   "metadata": {},
   "outputs": [
    {
     "name": "stdout",
     "output_type": "stream",
     "text": [
      "[]\n"
     ]
    }
   ],
   "source": [
    "apps.clear()\n",
    "print(apps)"
   ]
  },
  {
   "cell_type": "code",
   "execution_count": 29,
   "metadata": {},
   "outputs": [
    {
     "name": "stdout",
     "output_type": "stream",
     "text": [
      "['zomato', 'watsap', 'uber', 'snapchat', 'rapido', 'playstore', 'photos', 'linkedin', 'instagram', 'google', 'facebook', 'chrome', 'telegram', 'twitter', 'calendar', 'maps', 'youtube', 'telegram', 'twitter', 'calendar', 'maps', 'youtube']\n"
     ]
    }
   ],
   "source": [
    "print(b)"
   ]
  },
  {
   "cell_type": "markdown",
   "metadata": {},
   "source": [
    "LIST COMPREHENSION"
   ]
  },
  {
   "cell_type": "code",
   "execution_count": 2,
   "metadata": {},
   "outputs": [
    {
     "name": "stdout",
     "output_type": "stream",
     "text": [
      "[1, 4, 9, 16, 25, 36, 49, 64, 81, 100]\n"
     ]
    }
   ],
   "source": [
    "lst = [1,2,3,4,5,6,7,8,9,10]\n",
    "new_lst = []\n",
    "for i in lst:\n",
    "    new_lst.append(i**2)\n",
    "print(new_lst)"
   ]
  },
  {
   "cell_type": "code",
   "execution_count": 3,
   "metadata": {},
   "outputs": [
    {
     "name": "stdout",
     "output_type": "stream",
     "text": [
      "[1, 2, 3, 4, 5, 6, 7, 8, 9, 10]\n"
     ]
    }
   ],
   "source": [
    "print(lst)"
   ]
  },
  {
   "cell_type": "code",
   "execution_count": 4,
   "metadata": {},
   "outputs": [
    {
     "name": "stdout",
     "output_type": "stream",
     "text": [
      "[1, 4, 9, 16, 25, 36, 49, 64, 81, 100]\n"
     ]
    }
   ],
   "source": [
    "lst = [1,2,3,4,5,6,7,8,9,10]\n",
    "square = [i**2 for i in lst]\n",
    "print(square)"
   ]
  },
  {
   "cell_type": "code",
   "execution_count": 5,
   "metadata": {},
   "outputs": [
    {
     "name": "stdout",
     "output_type": "stream",
     "text": [
      "[2, 4, 6, 8, 10, 12, 14, 16, 18, 20]\n"
     ]
    }
   ],
   "source": [
    "num = [2,4,3,5,6,7,8,9,10,11,12,13,14,15,16,17,18,19,20]\n",
    "even_num = [i for i in num if i%2 == 0]\n",
    "print(even_num)"
   ]
  },
  {
   "cell_type": "code",
   "execution_count": 6,
   "metadata": {},
   "outputs": [
    {
     "name": "stdout",
     "output_type": "stream",
     "text": [
      "['apple', 'banana', 'mango', 'orange', 'grapes', 'kiwi', 'papaya', 'guava']\n"
     ]
    }
   ],
   "source": [
    "fruits = ['apple','banana','mango','orange','grapes','kiwi','papaya','watermelon','pomegranate','guava']\n",
    "fruis1 = [i for i in fruits if len(i) <= 6]\n",
    "print(fruis1)"
   ]
  },
  {
   "cell_type": "code",
   "execution_count": 7,
   "metadata": {},
   "outputs": [
    {
     "name": "stdout",
     "output_type": "stream",
     "text": [
      "['APPLE', 'BANANA', 'MANGO', 'ORANGE', 'GRAPES', 'KIWI', 'PAPAYA', 'WATERMELON', 'POMEGRANATE', 'GUAVA']\n"
     ]
    }
   ],
   "source": [
    "fruits2 = [i.upper() for i in fruits]\n",
    "print(fruits2)"
   ]
  },
  {
   "cell_type": "code",
   "execution_count": 8,
   "metadata": {},
   "outputs": [
    {
     "name": "stdout",
     "output_type": "stream",
     "text": [
      "['apple', 'banana', 'mango', 'orange', 'grapes', 'papaya', 'watermelon', 'pomegranate', 'guava']\n"
     ]
    }
   ],
   "source": [
    "fruits = [i for i in fruits if 'a' in i]\n",
    "print(fruits)"
   ]
  },
  {
   "cell_type": "code",
   "execution_count": null,
   "metadata": {},
   "outputs": [],
   "source": []
  }
 ],
 "metadata": {
  "kernelspec": {
   "display_name": "py310",
   "language": "python",
   "name": "python3"
  },
  "language_info": {
   "codemirror_mode": {
    "name": "ipython",
    "version": 3
   },
   "file_extension": ".py",
   "mimetype": "text/x-python",
   "name": "python",
   "nbconvert_exporter": "python",
   "pygments_lexer": "ipython3",
   "version": "3.10.10"
  }
 },
 "nbformat": 4,
 "nbformat_minor": 2
}
