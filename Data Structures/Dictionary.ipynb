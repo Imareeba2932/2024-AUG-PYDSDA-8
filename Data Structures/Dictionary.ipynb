{
 "cells": [
  {
   "cell_type": "markdown",
   "metadata": {},
   "source": [
    "DICTIONARY\n",
    " - how declare it\n",
    " - how to access key and values of a dictionary\n",
    " - how to use loops in dictionary\n",
    " - indexing in dictionary"
   ]
  },
  {
   "cell_type": "code",
   "execution_count": 2,
   "metadata": {},
   "outputs": [
    {
     "name": "stdout",
     "output_type": "stream",
     "text": [
      "{'name': 'John', 'class': 'Physics', 'roll_no': 12, 'age': 18, 'marks': 70}\n"
     ]
    }
   ],
   "source": [
    "student = {\n",
    "    \"name\": \"John\",\n",
    "    \"class\": \"Physics\",\n",
    "    \"roll_no\": 12,\n",
    "    \"age\" : 18,\n",
    "    \"marks\": 70\n",
    "}\n",
    "print(student)"
   ]
  },
  {
   "cell_type": "code",
   "execution_count": 3,
   "metadata": {},
   "outputs": [
    {
     "name": "stdout",
     "output_type": "stream",
     "text": [
      "{'lucknow': [25, 30, 35], 'delhi': [30, 35, 40], 'mumbai': [35, 40, 45]}\n"
     ]
    }
   ],
   "source": [
    "temp = {\n",
    "    'lucknow' : [25,30,35],\n",
    "    'delhi' : [30,35,40],\n",
    "    'mumbai' : [35,40,45]\n",
    "}\n",
    "print(temp)"
   ]
  },
  {
   "cell_type": "code",
   "execution_count": 4,
   "metadata": {},
   "outputs": [
    {
     "name": "stdout",
     "output_type": "stream",
     "text": [
      "{'name': 'John', 'age': 22, 'city': 'New York'}\n"
     ]
    }
   ],
   "source": [
    "info = dict(name='John', age=22, city='New York')\n",
    "print(info)"
   ]
  },
  {
   "cell_type": "code",
   "execution_count": 5,
   "metadata": {},
   "outputs": [
    {
     "name": "stdout",
     "output_type": "stream",
     "text": [
      "{'name': 'John', 'age': 22, 'city': 'New York'}\n"
     ]
    }
   ],
   "source": [
    "info2 = dict([('name', 'John'), ('age', 22), ('city', 'New York')])\n",
    "print(info2)"
   ]
  },
  {
   "cell_type": "code",
   "execution_count": 6,
   "metadata": {},
   "outputs": [
    {
     "name": "stdout",
     "output_type": "stream",
     "text": [
      "{'name': 'areeba', 'age': 21, 'city': 'lko'}\n"
     ]
    }
   ],
   "source": [
    "info3 = dict(name = input(\"Enter your name: \"), age = int(input(\"Enter your age: \")), \n",
    "             city = input(\"Enter your city: \"))\n",
    "print(info3)\n"
   ]
  },
  {
   "cell_type": "code",
   "execution_count": 8,
   "metadata": {},
   "outputs": [
    {
     "name": "stdout",
     "output_type": "stream",
     "text": [
      "John\n",
      "12\n"
     ]
    }
   ],
   "source": [
    "#1st method to acces value through key\n",
    "print(student['name'])\n",
    "print(student['roll_no'])"
   ]
  },
  {
   "cell_type": "code",
   "execution_count": 11,
   "metadata": {},
   "outputs": [
    {
     "name": "stdout",
     "output_type": "stream",
     "text": [
      "John\n",
      "12\n",
      "70\n"
     ]
    }
   ],
   "source": [
    "#2nd method\n",
    "print(student.get('name'))\n",
    "print(student.get('roll_no'))\n",
    "print(student.get('marks'))"
   ]
  },
  {
   "cell_type": "code",
   "execution_count": 14,
   "metadata": {},
   "outputs": [
    {
     "name": "stdout",
     "output_type": "stream",
     "text": [
      "{'name': 'John', 'class': 'Physics', 'roll_no': 12, 'age': 18, 'marks': 70, 'school': 'DPS', 'city': 'Lucknow'}\n"
     ]
    }
   ],
   "source": [
    "#to add items in a dictionary\n",
    "student['school'] = 'DPS'\n",
    "student['city'] = 'Lucknow'\n",
    "print(student)"
   ]
  },
  {
   "cell_type": "code",
   "execution_count": 17,
   "metadata": {},
   "outputs": [
    {
     "name": "stdout",
     "output_type": "stream",
     "text": [
      "dict_keys(['name', 'class', 'roll_no', 'age', 'marks', 'school', 'city'])\n",
      "dict_values(['John', 'Physics', 12, 18, 70, 'DPS', 'Lucknow'])\n",
      "dict_items([('name', 'John'), ('class', 'Physics'), ('roll_no', 12), ('age', 18), ('marks', 70), ('school', 'DPS'), ('city', 'Lucknow')])\n"
     ]
    }
   ],
   "source": [
    "print(student.keys())\n",
    "print(student.values())\n",
    "print(student.items())"
   ]
  },
  {
   "cell_type": "code",
   "execution_count": 18,
   "metadata": {},
   "outputs": [
    {
     "name": "stdout",
     "output_type": "stream",
     "text": [
      "name\n",
      "class\n",
      "roll_no\n",
      "age\n",
      "marks\n",
      "school\n",
      "city\n"
     ]
    }
   ],
   "source": [
    "for k in student:\n",
    "    print(k)"
   ]
  },
  {
   "cell_type": "code",
   "execution_count": 20,
   "metadata": {},
   "outputs": [
    {
     "name": "stdout",
     "output_type": "stream",
     "text": [
      "name : John\n",
      "class : Physics\n",
      "roll_no : 12\n",
      "age : 18\n",
      "marks : 70\n",
      "school : DPS\n",
      "city : Lucknow\n"
     ]
    }
   ],
   "source": [
    "for k,v in student.items():\n",
    "    print(f'{k} : {v}')"
   ]
  },
  {
   "cell_type": "code",
   "execution_count": 21,
   "metadata": {},
   "outputs": [
    {
     "name": "stdout",
     "output_type": "stream",
     "text": [
      "{'emp001': {'name': 'John', 'age': 27, 'dept': 'HR', 'salary': 30000}, 'emp002': {'name': 'Smith', 'age': 24, 'dept': 'Engineering', 'salary': 50000}, 'emp003': {'name': 'Mark', 'age': 30, 'dept': 'Finance', 'salary': 40000}}\n"
     ]
    }
   ],
   "source": [
    "company = {\n",
    "    'emp001' : {'name' : 'John', 'age' : 27, 'dept' : 'HR', 'salary' : 30000},\n",
    "    'emp002' : {'name' : 'Smith', 'age' : 24, 'dept' : 'Engineering', 'salary' : 50000},\n",
    "    'emp003' : {'name' : 'Mark', 'age' : 30, 'dept' : 'Finance', 'salary' : 40000}\n",
    "}\n",
    "print(company)"
   ]
  },
  {
   "cell_type": "code",
   "execution_count": 24,
   "metadata": {},
   "outputs": [
    {
     "name": "stdout",
     "output_type": "stream",
     "text": [
      "{'emp001': {'name': 'John', 'age': 27, 'dept': 'HR', 'salary': 30000},\n",
      " 'emp002': {'name': 'Smith', 'age': 24, 'dept': 'Engineering', 'salary': 50000},\n",
      " 'emp003': {'name': 'Mark', 'age': 30, 'dept': 'Finance', 'salary': 40000}}\n"
     ]
    }
   ],
   "source": [
    "from pprint import pp\n",
    "pp(company)"
   ]
  },
  {
   "cell_type": "code",
   "execution_count": 26,
   "metadata": {},
   "outputs": [
    {
     "name": "stdout",
     "output_type": "stream",
     "text": [
      "Smith\n"
     ]
    }
   ],
   "source": [
    "print(company['emp002']['name'])"
   ]
  },
  {
   "cell_type": "code",
   "execution_count": 27,
   "metadata": {},
   "outputs": [
    {
     "name": "stdout",
     "output_type": "stream",
     "text": [
      "30\n",
      "40\n"
     ]
    }
   ],
   "source": [
    "print(temp['lucknow'][1])\n",
    "print(temp['delhi'][2])"
   ]
  },
  {
   "cell_type": "code",
   "execution_count": 29,
   "metadata": {},
   "outputs": [
    {
     "name": "stdout",
     "output_type": "stream",
     "text": [
      "Average temperature of Delhi is :  35.0\n"
     ]
    }
   ],
   "source": [
    "#print average temperature of delhi\n",
    "print('Average temperature of Delhi is : ', sum(temp['delhi'])/len(temp['delhi']))"
   ]
  },
  {
   "cell_type": "code",
   "execution_count": null,
   "metadata": {},
   "outputs": [],
   "source": []
  }
 ],
 "metadata": {
  "kernelspec": {
   "display_name": "py310",
   "language": "python",
   "name": "python3"
  },
  "language_info": {
   "codemirror_mode": {
    "name": "ipython",
    "version": 3
   },
   "file_extension": ".py",
   "mimetype": "text/x-python",
   "name": "python",
   "nbconvert_exporter": "python",
   "pygments_lexer": "ipython3",
   "version": "3.10.10"
  }
 },
 "nbformat": 4,
 "nbformat_minor": 2
}
