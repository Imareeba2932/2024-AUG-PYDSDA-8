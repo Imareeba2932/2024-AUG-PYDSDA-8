{
 "cells": [
  {
   "cell_type": "code",
   "execution_count": 3,
   "metadata": {},
   "outputs": [
    {
     "name": "stdout",
     "output_type": "stream",
     "text": [
      "Hello from my_func\n"
     ]
    }
   ],
   "source": [
    "#Non parameterized function\n",
    "def my_func():\n",
    "    print(\"Hello from my_func\")\n",
    "my_func()"
   ]
  },
  {
   "cell_type": "code",
   "execution_count": 9,
   "metadata": {},
   "outputs": [
    {
     "name": "stdout",
     "output_type": "stream",
     "text": [
      "Hello from my_func\n",
      "None\n"
     ]
    }
   ],
   "source": [
    "#function calling\n",
    "my_func()"
   ]
  },
  {
   "cell_type": "code",
   "execution_count": 7,
   "metadata": {},
   "outputs": [
    {
     "name": "stdout",
     "output_type": "stream",
     "text": [
      "Hello John\n"
     ]
    }
   ],
   "source": [
    "#parameterized function\n",
    "def name(name): #name is a parameter\n",
    "    print(\"Hello \" + name)\n",
    "\n",
    "name(\"John\") #John is an argument\n",
    "\n"
   ]
  },
  {
   "cell_type": "code",
   "execution_count": 11,
   "metadata": {},
   "outputs": [
    {
     "name": "stdout",
     "output_type": "stream",
     "text": [
      "Hello John\n",
      "None\n"
     ]
    }
   ],
   "source": [
    "a = name(\"John\")    \n",
    "print(a)  #None"
   ]
  },
  {
   "cell_type": "code",
   "execution_count": 10,
   "metadata": {},
   "outputs": [
    {
     "data": {
      "text/plain": [
       "15"
      ]
     },
     "execution_count": 10,
     "metadata": {},
     "output_type": "execute_result"
    }
   ],
   "source": [
    "def func(x):\n",
    "    return 5*x\n",
    "\n",
    "func(3)"
   ]
  },
  {
   "cell_type": "code",
   "execution_count": 12,
   "metadata": {},
   "outputs": [
    {
     "name": "stdout",
     "output_type": "stream",
     "text": [
      "15\n"
     ]
    }
   ],
   "source": [
    "a = func(3)\n",
    "print(a)"
   ]
  },
  {
   "cell_type": "code",
   "execution_count": 15,
   "metadata": {},
   "outputs": [
    {
     "name": "stdout",
     "output_type": "stream",
     "text": [
      "I am from USA\n",
      "I am from UK\n",
      "I am from India\n",
      "I am from Canada\n"
     ]
    }
   ],
   "source": [
    "#default parameterized function\n",
    "def my_country(country = \"India\"):\n",
    "    print(\"I am from \" + country)\n",
    "\n",
    "my_country(\"USA\")\n",
    "my_country(\"UK\")\n",
    "my_country()\n",
    "my_country(\"Canada\")"
   ]
  },
  {
   "cell_type": "code",
   "execution_count": 16,
   "metadata": {},
   "outputs": [
    {
     "name": "stdout",
     "output_type": "stream",
     "text": [
      "apple\n",
      "banana\n",
      "cherry\n"
     ]
    }
   ],
   "source": [
    "def fruits(fruit):\n",
    "    for x in fruit:\n",
    "        print(x)\n",
    "\n",
    "fruits([\"apple\", \"banana\", \"cherry\"])"
   ]
  },
  {
   "cell_type": "code",
   "execution_count": 20,
   "metadata": {},
   "outputs": [
    {
     "data": {
      "text/plain": [
       "5"
      ]
     },
     "execution_count": 20,
     "metadata": {},
     "output_type": "execute_result"
    }
   ],
   "source": [
    "def sum(a,b):\n",
    "    return a+b\n",
    "sum(2,3)\n"
   ]
  },
  {
   "cell_type": "code",
   "execution_count": 18,
   "metadata": {},
   "outputs": [
    {
     "name": "stdout",
     "output_type": "stream",
     "text": [
      "5\n"
     ]
    }
   ],
   "source": [
    "#lambda function\n",
    "add = lambda a,b : a+b\n",
    "print(add(2,3))"
   ]
  },
  {
   "cell_type": "code",
   "execution_count": 21,
   "metadata": {},
   "outputs": [
    {
     "name": "stdout",
     "output_type": "stream",
     "text": [
      "True\n"
     ]
    }
   ],
   "source": [
    "#even odd using lambda\n",
    "even = lambda a : a%2 == 0\n",
    "print(even(2))"
   ]
  },
  {
   "cell_type": "code",
   "execution_count": 22,
   "metadata": {},
   "outputs": [
    {
     "data": {
      "text/plain": [
       "('Welcome', 'to', 'Digipodium')"
      ]
     },
     "execution_count": 22,
     "metadata": {},
     "output_type": "execute_result"
    }
   ],
   "source": [
    "def myFunc():\n",
    "    return \"Welcome\",\"to\",\"Digipodium\"\n",
    "myFunc()"
   ]
  },
  {
   "cell_type": "code",
   "execution_count": 23,
   "metadata": {},
   "outputs": [
    {
     "name": "stdout",
     "output_type": "stream",
     "text": [
      "Welcome\n",
      "to\n",
      "Digipodium\n"
     ]
    }
   ],
   "source": [
    "a, b, c = myFunc()\n",
    "print(a)\n",
    "print(b)\n",
    "print(c)"
   ]
  },
  {
   "cell_type": "markdown",
   "metadata": {},
   "source": [
    "- Check a number is prime or not\n",
    "- Convert temperature celcius to fahrenheit\n",
    "- Find maximum of three numbers\n",
    "- Calculate Factorial\n",
    "- Reverse of a string\n",
    "- Count vowels in a string\n",
    "- Calculate BMI(Body Mass Index)"
   ]
  },
  {
   "cell_type": "markdown",
   "metadata": {},
   "source": [
    "### Built-in Functions"
   ]
  },
  {
   "cell_type": "code",
   "execution_count": 1,
   "metadata": {},
   "outputs": [],
   "source": [
    "import math"
   ]
  },
  {
   "cell_type": "code",
   "execution_count": 8,
   "metadata": {},
   "outputs": [
    {
     "name": "stdout",
     "output_type": "stream",
     "text": [
      "4.0\n",
      "120\n",
      "3.141592653589793\n",
      "12\n",
      "0.8939966636005579\n",
      "-0.4480736161291701\n",
      "24\n"
     ]
    }
   ],
   "source": [
    "print(math.sqrt(16))\n",
    "print(math.factorial(5))\n",
    "print(math.pi)\n",
    "print(math.gcd(12,24))\n",
    "print(math.sin(90))\n",
    "print(math.cos(90))\n",
    "print(math.lcm(12,24))"
   ]
  },
  {
   "cell_type": "code",
   "execution_count": 9,
   "metadata": {},
   "outputs": [],
   "source": [
    "from random import random, randint, choice, shuffle"
   ]
  },
  {
   "cell_type": "code",
   "execution_count": 28,
   "metadata": {},
   "outputs": [
    {
     "name": "stdout",
     "output_type": "stream",
     "text": [
      "get a random number betwween 0 and 2 :  0.9756685472195622\n",
      "get arandom integer between 0 and 2 :  0\n",
      "get a random element from a list :  2\n",
      "shuffle a list :  ['John', 'Bob', 'Alice', 'Smith']\n"
     ]
    }
   ],
   "source": [
    "print('get a random number betwween 0 and 2 : ', random())\n",
    "print('get arandom integer between 0 and 2 : ', randint(0,2))\n",
    "print('get a random element from a list : ', choice([1,2,3,4,5]))\n",
    "names = ['John', 'Smith', 'Alice', 'Bob']\n",
    "shuffle(names)\n",
    "print('shuffle a list : ', names)"
   ]
  },
  {
   "cell_type": "code",
   "execution_count": 29,
   "metadata": {},
   "outputs": [],
   "source": [
    "from datetime import datetime as dt"
   ]
  },
  {
   "cell_type": "code",
   "execution_count": 39,
   "metadata": {},
   "outputs": [
    {
     "name": "stdout",
     "output_type": "stream",
     "text": [
      "Current Date and Time :  2024-09-06 10:24:10.118710\n",
      "Current Date :  <built-in method date of datetime.datetime object at 0x0000017BAA1971B0>\n",
      "Current Time :  10:24:10.119707\n"
     ]
    }
   ],
   "source": [
    "print('Current Date and Time : ', dt.now())\n",
    "print('Current Date : ', dt.now().date())\n",
    "print('Current Time : ', dt.now().time())"
   ]
  },
  {
   "cell_type": "code",
   "execution_count": 40,
   "metadata": {},
   "outputs": [
    {
     "name": "stdout",
     "output_type": "stream",
     "text": [
      "Current Year :  2024\n",
      "Current Month :  9\n",
      "Current Day :  6\n",
      "Current Hour :  10\n",
      "Current Minute :  25\n",
      "Current Second :  30\n",
      "Current Microsecond :  238231\n",
      "Current Weekday :  4\n"
     ]
    }
   ],
   "source": [
    "print('Current Year : ', dt.now().year)\n",
    "print('Current Month : ', dt.now().month)\n",
    "print('Current Day : ', dt.now().day)\n",
    "print('Current Hour : ', dt.now().hour)\n",
    "print('Current Minute : ', dt.now().minute)\n",
    "print('Current Second : ', dt.now().second)\n",
    "print('Current Microsecond : ', dt.now().microsecond)\n",
    "print('Current Weekday : ', dt.now().weekday())"
   ]
  },
  {
   "cell_type": "code",
   "execution_count": 37,
   "metadata": {},
   "outputs": [
    {
     "name": "stdout",
     "output_type": "stream",
     "text": [
      "Current Date :  06-09-2024\n"
     ]
    }
   ],
   "source": [
    "date = dt.strftime(dt.now(), '%d-%m-%Y')\n",
    "print('Current Date : ', date)"
   ]
  },
  {
   "cell_type": "code",
   "execution_count": 41,
   "metadata": {},
   "outputs": [
    {
     "name": "stdout",
     "output_type": "stream",
     "text": [
      "Current Time :  10:26:03\n"
     ]
    }
   ],
   "source": [
    "time = dt.strftime(dt.now(), '%H:%M:%S')\n",
    "print('Current Time : ', time)"
   ]
  },
  {
   "cell_type": "code",
   "execution_count": 43,
   "metadata": {},
   "outputs": [],
   "source": [
    "import os #know about folders, files, and directories"
   ]
  },
  {
   "cell_type": "code",
   "execution_count": 44,
   "metadata": {},
   "outputs": [
    {
     "name": "stdout",
     "output_type": "stream",
     "text": [
      "Current Folder :  c:\\Users\\LENOVO\\Documents\\2024-AUG-PYDSDA-8\n"
     ]
    }
   ],
   "source": [
    "print('Current Folder : ', os.getcwd())"
   ]
  },
  {
   "cell_type": "code",
   "execution_count": 46,
   "metadata": {},
   "outputs": [
    {
     "name": "stdout",
     "output_type": "stream",
     "text": [
      "Files and Folders in current directory :  ['.git', 'Basics.ipynb', 'Basics.py', 'Conditions.ipynb', 'Data Structures', 'function.ipynb', 'loops.ipynb', 'Operators.ipynb', 'Variables.ipynb']\n",
      "9\n"
     ]
    }
   ],
   "source": [
    "files = os.listdir() #list all files and folders in current directory\n",
    "print('Files and Folders in current directory : ', files)\n",
    "print(len(files))"
   ]
  },
  {
   "cell_type": "code",
   "execution_count": 47,
   "metadata": {},
   "outputs": [
    {
     "name": "stdout",
     "output_type": "stream",
     "text": [
      "Files and Folders in AI-Extension-Project :  ['Frontend', 'gesture-plugin', 'package-lock.json', 'package.json', 'qna-plugin', 'testing']\n",
      "6\n"
     ]
    }
   ],
   "source": [
    "file = os.listdir(r\"C:\\Users\\LENOVO\\Documents\\AI-Extension-Project\") \n",
    "print('Files and Folders in AI-Extension-Project : ', file)\n",
    "print(len(file))"
   ]
  },
  {
   "cell_type": "code",
   "execution_count": 48,
   "metadata": {},
   "outputs": [
    {
     "data": {
      "text/plain": [
       "<generator object _walk at 0x0000017BABD6ED60>"
      ]
     },
     "execution_count": 48,
     "metadata": {},
     "output_type": "execute_result"
    }
   ],
   "source": [
    "os.walk('C:')"
   ]
  },
  {
   "cell_type": "code",
   "execution_count": 49,
   "metadata": {},
   "outputs": [
    {
     "name": "stdout",
     "output_type": "stream",
     "text": [
      "=> C:\n",
      "📁  ['.git', 'Data Structures']\n",
      "📄  ['Basics.ipynb', 'Basics.py', 'Conditions.ipynb', 'function.ipynb', 'loops.ipynb', 'Operators.ipynb', 'Variables.ipynb']\n",
      "=> C:.git\n",
      "📁  ['hooks', 'info', 'logs', 'objects', 'refs']\n",
      "📄  ['COMMIT_EDITMSG', 'config', 'description', 'FETCH_HEAD', 'HEAD', 'index', 'ORIG_HEAD']\n",
      "=> C:.git\\hooks\n",
      "📁  []\n",
      "📄  ['applypatch-msg.sample', 'commit-msg.sample', 'fsmonitor-watchman.sample', 'post-update.sample', 'pre-applypatch.sample', 'pre-commit.sample', 'pre-merge-commit.sample', 'pre-push.sample', 'pre-rebase.sample', 'pre-receive.sample', 'prepare-commit-msg.sample', 'push-to-checkout.sample', 'sendemail-validate.sample', 'update.sample']\n",
      "=> C:.git\\info\n",
      "📁  []\n",
      "📄  ['exclude']\n",
      "=> C:.git\\logs\n",
      "📁  ['refs']\n",
      "📄  ['HEAD']\n",
      "=> C:.git\\logs\\refs\n",
      "📁  ['heads', 'remotes']\n",
      "📄  []\n",
      "=> C:.git\\logs\\refs\\heads\n",
      "📁  []\n",
      "📄  ['main']\n",
      "=> C:.git\\logs\\refs\\remotes\n",
      "📁  ['origin']\n",
      "📄  []\n",
      "=> C:.git\\logs\\refs\\remotes\\origin\n",
      "📁  []\n",
      "📄  ['main']\n",
      "=> C:.git\\objects\n",
      "📁  ['06', '09', '0f', '3a', '41', '56', '7d', '8c', 'a2', 'aa', 'c8', 'd7', 'dc', 'df', 'e6', 'f3', 'fa', 'fd', 'info', 'pack']\n",
      "📄  []\n",
      "=> C:.git\\objects\\06\n",
      "📁  []\n",
      "📄  ['f164d3f5de6213716780a0fe9f5650eae33ed1']\n",
      "=> C:.git\\objects\\09\n",
      "📁  []\n",
      "📄  ['a5cf1b73bec517067265c432f62a705ad575cc']\n",
      "=> C:.git\\objects\\0f\n",
      "📁  []\n",
      "📄  ['37814db63b8d280be43b1c23426a6fdd38ef14', '41f789b428145a4a970930d4fd0903d52d8e90']\n",
      "=> C:.git\\objects\\3a\n",
      "📁  []\n",
      "📄  ['f43b54bdb7de723932bf8a708ae7f29edf4644']\n",
      "=> C:.git\\objects\\41\n",
      "📁  []\n",
      "📄  ['34402b282774f09c0b25c9f32c632aca9d76ce']\n",
      "=> C:.git\\objects\\56\n",
      "📁  []\n",
      "📄  ['ebc2a1ae7e0823582301037c9b8b805fd5c25f']\n",
      "=> C:.git\\objects\\7d\n",
      "📁  []\n",
      "📄  ['474565a27ce91b273cd600a59bd558269e29e6']\n",
      "=> C:.git\\objects\\8c\n",
      "📁  []\n",
      "📄  ['d05bbac5a8a47c8a137a27c6a25e8b4d40f3ff']\n",
      "=> C:.git\\objects\\a2\n",
      "📁  []\n",
      "📄  ['5eb6399fe05c512a61abb5215d12c60c3f284e']\n",
      "=> C:.git\\objects\\aa\n",
      "📁  []\n",
      "📄  ['f4c9f938f5b13dfb0d62be992e9b86cd9deabb']\n",
      "=> C:.git\\objects\\c8\n",
      "📁  []\n",
      "📄  ['ac417b9380374b768e7bbe643f59376f911761']\n",
      "=> C:.git\\objects\\d7\n",
      "📁  []\n",
      "📄  ['441f49db909ee11d3daa416c787a0014d74b76']\n",
      "=> C:.git\\objects\\dc\n",
      "📁  []\n",
      "📄  ['78ed3a6771f7de3d3cf7e830937531baecaa90']\n",
      "=> C:.git\\objects\\df\n",
      "📁  []\n",
      "📄  ['1dc6821eb73a1036ef820317e03d5f5e01dcca']\n",
      "=> C:.git\\objects\\e6\n",
      "📁  []\n",
      "📄  ['9a44a963d512e0031efa0e4b0319eb5d181a0f', '9de29bb2d1d6434b8b29ae775ad8c2e48c5391']\n",
      "=> C:.git\\objects\\f3\n",
      "📁  []\n",
      "📄  ['64d3a323382de4324bbf2a842d20d56666f6db']\n",
      "=> C:.git\\objects\\fa\n",
      "📁  []\n",
      "📄  ['1f85ee4bf6d7276a4242f3672f114bd49cff5f']\n",
      "=> C:.git\\objects\\fd\n",
      "📁  []\n",
      "📄  ['2f85b6bbdc9da6da2429a34c2dde0e91b6b053']\n",
      "=> C:.git\\objects\\info\n",
      "📁  []\n",
      "📄  []\n",
      "=> C:.git\\objects\\pack\n",
      "📁  []\n",
      "📄  []\n",
      "=> C:.git\\refs\n",
      "📁  ['heads', 'remotes', 'tags']\n",
      "📄  []\n",
      "=> C:.git\\refs\\heads\n",
      "📁  []\n",
      "📄  ['main']\n",
      "=> C:.git\\refs\\remotes\n",
      "📁  ['origin']\n",
      "📄  []\n",
      "=> C:.git\\refs\\remotes\\origin\n",
      "📁  []\n",
      "📄  ['main']\n",
      "=> C:.git\\refs\\tags\n",
      "📁  []\n",
      "📄  []\n",
      "=> C:Data Structures\n",
      "📁  []\n",
      "📄  ['Dictionary.ipynb', 'List.ipynb', 'Sets.ipynb', 'Strings.ipynb']\n",
      "Total Files :  58\n"
     ]
    }
   ],
   "source": [
    "total_files = 0\n",
    "for path, folders, files in os.walk('C:'):\n",
    "    print('=>' , path)\n",
    "    print('📁 ', folders)\n",
    "    print('📄 ', files)\n",
    "    total_files += len(files)\n",
    "print('Total Files : ', total_files)"
   ]
  },
  {
   "cell_type": "code",
   "execution_count": 53,
   "metadata": {},
   "outputs": [
    {
     "name": "stdout",
     "output_type": "stream",
     "text": [
      "Folder Exists\n"
     ]
    }
   ],
   "source": [
    "files = r'C:\\Users\\LENOVO\\Documents\\AI-Extension-Project'\n",
    "if os.path.exists(files):\n",
    "    print('Folder Exists')\n",
    "else:\n",
    "    print('Folder does not exist')"
   ]
  },
  {
   "cell_type": "code",
   "execution_count": 54,
   "metadata": {},
   "outputs": [
    {
     "name": "stdout",
     "output_type": "stream",
     "text": [
      "Folder Exists\n",
      "size in bytes :  4096 bytes\n",
      "size in KB :  4.0 KB\n",
      "size in MB :  0.00390625 MB\n",
      "size in GB :  3.814697265625e-06 GB\n"
     ]
    }
   ],
   "source": [
    "files = r'C:\\Users\\LENOVO\\Documents\\AI-Extension-Project'\n",
    "if os.path.exists(files):\n",
    "    print('Folder Exists')\n",
    "    size = os.path.getsize(files)\n",
    "    print('size in bytes : ', size, 'bytes')\n",
    "    print('size in KB : ', size/1024, 'KB')\n",
    "    print('size in MB : ', size/1024/1024, 'MB')\n",
    "    print('size in GB : ', size/1024/1024/1024, 'GB')"
   ]
  },
  {
   "cell_type": "code",
   "execution_count": null,
   "metadata": {},
   "outputs": [],
   "source": []
  }
 ],
 "metadata": {
  "kernelspec": {
   "display_name": "base",
   "language": "python",
   "name": "python3"
  },
  "language_info": {
   "codemirror_mode": {
    "name": "ipython",
    "version": 3
   },
   "file_extension": ".py",
   "mimetype": "text/x-python",
   "name": "python",
   "nbconvert_exporter": "python",
   "pygments_lexer": "ipython3",
   "version": "3.9.12"
  }
 },
 "nbformat": 4,
 "nbformat_minor": 2
}
