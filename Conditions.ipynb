{
 "cells": [
  {
   "cell_type": "code",
   "execution_count": 2,
   "metadata": {},
   "outputs": [
    {
     "name": "stdout",
     "output_type": "stream",
     "text": [
      "A\n",
      "B\n"
     ]
    }
   ],
   "source": [
    "marks = 80\n",
    "if marks >= 90:\n",
    "    print('A+')\n",
    "if marks >=70:\n",
    "    print('A')\n",
    "if marks >= 60:\n",
    "    print('B')\n",
    "if marks <= 60:\n",
    "    print('poor performance')"
   ]
  },
  {
   "cell_type": "code",
   "execution_count": 3,
   "metadata": {},
   "outputs": [
    {
     "name": "stdout",
     "output_type": "stream",
     "text": [
      "A\n"
     ]
    }
   ],
   "source": [
    "marks = 80\n",
    "if marks >= 90:\n",
    "    print('A+')\n",
    "elif marks >=70:\n",
    "    print('A')\n",
    "elif marks >= 60:\n",
    "    print('B')\n",
    "elif marks <= 60:\n",
    "    print('poor performance')\n",
    "else:\n",
    "    print('Invalid Marks')"
   ]
  },
  {
   "cell_type": "code",
   "execution_count": null,
   "metadata": {},
   "outputs": [],
   "source": [
    "age = int(input(\"Enter the age \"))\n",
    "if age>=18:\n",
    "    print(\"person is elligible to vote\")\n",
    "else:\n",
    "    print(\"person is not elligible to vote\")"
   ]
  },
  {
   "cell_type": "code",
   "execution_count": 5,
   "metadata": {},
   "outputs": [
    {
     "name": "stdout",
     "output_type": "stream",
     "text": [
      "It is not a vowel\n"
     ]
    }
   ],
   "source": [
    "# enter a character from user check whether it is a vowel or not\n",
    "ch = input(\"Enter a character \")\n",
    "vowel = ['a','e','i','o','u']\n",
    "if ch in vowel:\n",
    "    print(\"It is a vowel\")\n",
    "else:\n",
    "    print(\"It is not a vowel\")"
   ]
  },
  {
   "cell_type": "code",
   "execution_count": 6,
   "metadata": {},
   "outputs": [
    {
     "name": "stdout",
     "output_type": "stream",
     "text": [
      "It is not a vowel\n"
     ]
    }
   ],
   "source": [
    "ch = input(\"Enter a character \")\n",
    "if ch == 'a' or ch == 'e' or ch == 'i' or ch == 'o' or ch == 'u':\n",
    "    print(\"It is a vowel\")\n",
    "else:\n",
    "    print(\"It is not a vowel\")"
   ]
  },
  {
   "cell_type": "code",
   "execution_count": 8,
   "metadata": {},
   "outputs": [
    {
     "name": "stdout",
     "output_type": "stream",
     "text": [
      "Odd number\n"
     ]
    }
   ],
   "source": [
    "num = int(input(\"Enter a number \"))\n",
    "if num % 2 == 0:\n",
    "    print(\"Even number\")\n",
    "else:\n",
    "    print(\"Odd number\")"
   ]
  },
  {
   "cell_type": "code",
   "execution_count": 11,
   "metadata": {},
   "outputs": [
    {
     "name": "stdout",
     "output_type": "stream",
     "text": [
      "Scalene Triangle\n"
     ]
    }
   ],
   "source": [
    "s1 = 3\n",
    "s2 = 2\n",
    "s3 = 4\n",
    "if s1 == s2 == s3:\n",
    "    print(\"Equilateral Triangle\")\n",
    "elif s1 == s2 or s2 == s3 or s3 == s1:\n",
    "    print(\"Isosceles Triangle\")\n",
    "else:\n",
    "    print(\"Scalene Triangle\")\n"
   ]
  },
  {
   "cell_type": "code",
   "execution_count": 15,
   "metadata": {},
   "outputs": [
    {
     "name": "stdout",
     "output_type": "stream",
     "text": [
      "password is incorrect😒\n"
     ]
    }
   ],
   "source": [
    "username = input(\"Enter the username \")\n",
    "email = input(\"Enter the email \")\n",
    "password = input(\"Enter the password \")\n",
    "cpasswd = input(\"Enter the confirm password \")\n",
    "if len(username)>5 and len(username)<15:\n",
    "    if '@' in email:\n",
    "        if len(password)>6 and len(password)<15:\n",
    "            if password == cpasswd:\n",
    "                print(\"Registration Successful🎊\") \n",
    "            else:\n",
    "                print(\"Password and Confirm password should be same🥲\")\n",
    "        else:\n",
    "            print(\"password is incorrect😒\")\n",
    "    else:\n",
    "        print(\"invalid email😢\")\n",
    "else:\n",
    "    print(\"invalid username😭😭😭😭😭😭\")"
   ]
  },
  {
   "cell_type": "code",
   "execution_count": null,
   "metadata": {},
   "outputs": [],
   "source": []
  }
 ],
 "metadata": {
  "kernelspec": {
   "display_name": "py310",
   "language": "python",
   "name": "python3"
  },
  "language_info": {
   "codemirror_mode": {
    "name": "ipython",
    "version": 3
   },
   "file_extension": ".py",
   "mimetype": "text/x-python",
   "name": "python",
   "nbconvert_exporter": "python",
   "pygments_lexer": "ipython3",
   "version": "3.10.10"
  }
 },
 "nbformat": 4,
 "nbformat_minor": 2
}
